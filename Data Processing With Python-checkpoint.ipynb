{
 "cells": [
  {
   "cell_type": "markdown",
   "metadata": {},
   "source": [
    "# **Data Processing With Python**\n",
    "## Contents\n",
    "I. Trend Of Programming Languages\n",
    "\n",
    "II. Why Python?\n",
    "\n",
    "III. Some Python Basics\n",
    "\n",
    "IV. \"Talk is cheap. Show me the code. \"\n",
    "\n",
    "V. Packages We Use\n",
    "\n",
    "VI. Pandas\n",
    "\n",
    "VII. Numpy And Matplotlib\n",
    "\n",
    "VIII. Jupyter Notebook\n",
    "\n",
    "IX. How To Get Python And Packages?\n",
    "\n",
    "X. How To Get Started?\n",
    "\n",
    "Let`s Play With Python\n",
    "\n",
    "Recommanded Solutions"
   ]
  },
  {
   "cell_type": "markdown",
   "metadata": {},
   "source": [
    "## I. Trend Of Programming Languages\n",
    "### 1. [TIOBE Index](https://tiobe.com/tiobe-index/)\n",
    "The TIOBE Programming Community index is an indicator of the popularity of programming languages. The index is updated once a month. The ratings are based on the number of skilled engineers world-wide, courses and third party vendors. Popular search engines such as Google, Bing, Yahoo! \n",
    "![indexOfFeb2018](https://github.com/NightMarcher/DataProcessingWithPython/blob/master/indexOfFeb2018.png?raw=true \"indexOfFeb2018\")\n",
    "### 2. Long Term History Of Most Popular Languages\n",
    "![longTermHistory](https://github.com/NightMarcher/DataProcessingWithPython/blob/master/longTermHistory.png?raw=true \"longTermHistory\")"
   ]
  },
  {
   "cell_type": "markdown",
   "metadata": {},
   "source": [
    "## II. Why Python？\n",
    "![pythonLogo](https://www.python.org/static/img/python-logo.png \"pythonLogo\")\n",
    "### *The Zen Of Python*\n",
    "*Beautiful is better than ugly.*\n",
    "\n",
    "*Explicit is better than implicit.*\n",
    "\n",
    "*Simple is better than complex.*\n",
    "\n",
    "*Complex is better than complicated.*\n",
    "\n",
    "*Flat is better than nested.*\n",
    "\n",
    "*Sparse is better than dense.*\n",
    "\n",
    "*Readability counts.*\n",
    "\n",
    "*...*\n",
    "### Summary\n",
    "* Friendly syntax >>> Easy to learn\n",
    "\n",
    "\n",
    "* Open >>> Powerful (numerous packages, 131315 packages in March 6th, 2018 in total)\n",
    "\n",
    "\n",
    "* Fast to develop a project\n",
    "\n",
    "\n",
    "* Plays well with others (Glue language: Cython, Rpy2, Jython, PyMongo)\n",
    "\n",
    "\n",
    "* Cloud computing, Machine Learning, Data Mining, Natural Language Processing, etc."
   ]
  },
  {
   "cell_type": "markdown",
   "metadata": {},
   "source": [
    "## III. Some Python Basics\n",
    "### 1. Language Style\n",
    "![languageStyle](https://github.com/NightMarcher/DataProcessingWithPython/blob/master/languageStyle.png?raw=true \"languageStyle\")\n",
    "### 2. Module"
   ]
  },
  {
   "cell_type": "code",
   "execution_count": null,
   "metadata": {},
   "outputs": [],
   "source": [
    "import pandas\n",
    "df = pandas.DataFrame()"
   ]
  },
  {
   "cell_type": "code",
   "execution_count": null,
   "metadata": {},
   "outputs": [],
   "source": [
    "import pandas as pd\n",
    "df = pd.DataFrame()"
   ]
  },
  {
   "cell_type": "code",
   "execution_count": null,
   "metadata": {},
   "outputs": [],
   "source": [
    "from pandas import *\n",
    "df = DataFrame()"
   ]
  },
  {
   "cell_type": "code",
   "execution_count": null,
   "metadata": {},
   "outputs": [],
   "source": [
    "from pandas import DataFrame\n",
    "df = DataFrame()"
   ]
  },
  {
   "cell_type": "code",
   "execution_count": null,
   "metadata": {},
   "outputs": [],
   "source": [
    "from pandas import DataFrame as DF\n",
    "df = DF()"
   ]
  },
  {
   "cell_type": "markdown",
   "metadata": {},
   "source": [
    "### 3. Type Of Data"
   ]
  },
  {
   "cell_type": "code",
   "execution_count": null,
   "metadata": {},
   "outputs": [],
   "source": [
    "num = 3 # number, includes int、float、bool and complex\n",
    "print num, type(num)"
   ]
  },
  {
   "cell_type": "code",
   "execution_count": null,
   "metadata": {},
   "outputs": [],
   "source": [
    "list_ = ['Fibonacci', 1, 1, 2, 3, 5, 8] # list\n",
    "print list_, type(list_)"
   ]
  },
  {
   "cell_type": "code",
   "execution_count": null,
   "metadata": {},
   "outputs": [],
   "source": [
    "str_ = 'Hello' # str\n",
    "print str_, type(str_)"
   ]
  },
  {
   "cell_type": "code",
   "execution_count": null,
   "metadata": {},
   "outputs": [],
   "source": [
    "tuple_ = (10, 'a') # tuple\n",
    "print tuple_, type(tuple_)"
   ]
  },
  {
   "cell_type": "code",
   "execution_count": null,
   "metadata": {},
   "outputs": [],
   "source": [
    "dict_= {'key1':'value1', 'key2':'value2', 'key3':'value3'} # dictionary\n",
    "print dict_, type(dict_)"
   ]
  },
  {
   "cell_type": "code",
   "execution_count": null,
   "metadata": {},
   "outputs": [],
   "source": [
    "set_ = {1, 2, 1, 3} # set\n",
    "print set_, type(set_)"
   ]
  },
  {
   "cell_type": "markdown",
   "metadata": {},
   "source": [
    "### 4. Operators\n",
    "Arithmetic Operators: +, -, /, %, **, //\n",
    "\n",
    "Comparison Operators: ==, !=, >=, <=, >, <\n",
    "\n",
    "Assignment Operators: =, +=, -=, /=, %=, **=, //=\n",
    "\n",
    "Bitwise Operators: &, |, ^, <<, >>\n",
    "\n",
    "Logical operators: not, or, and\n",
    "\n",
    "Membership Operators: in, not in\n",
    "\n",
    "Identity Operators: is, is not"
   ]
  },
  {
   "cell_type": "markdown",
   "metadata": {},
   "source": [
    "### 5. Function And Arguements"
   ]
  },
  {
   "cell_type": "code",
   "execution_count": null,
   "metadata": {},
   "outputs": [],
   "source": [
    "def fun(a, b, c=20, *args, **kwargs): # Required arguments， Default arguments， Variable-length arguments\n",
    "    print 'a =', a, ' b =', b, ' c =', c, ' args >>>', args, ' kwargs >>>',kwargs"
   ]
  },
  {
   "cell_type": "code",
   "execution_count": null,
   "metadata": {
    "scrolled": true
   },
   "outputs": [],
   "source": [
    "fun()"
   ]
  },
  {
   "cell_type": "code",
   "execution_count": null,
   "metadata": {},
   "outputs": [],
   "source": [
    "fun(1, 2)"
   ]
  },
  {
   "cell_type": "code",
   "execution_count": null,
   "metadata": {},
   "outputs": [],
   "source": [
    "fun(b=2, a=1)"
   ]
  },
  {
   "cell_type": "code",
   "execution_count": null,
   "metadata": {},
   "outputs": [],
   "source": [
    "fun(1, 2, 3, 4, 5)"
   ]
  },
  {
   "cell_type": "code",
   "execution_count": null,
   "metadata": {
    "scrolled": false
   },
   "outputs": [],
   "source": [
    "fun(1, 2, 3, k='key', n='num')"
   ]
  },
  {
   "cell_type": "markdown",
   "metadata": {},
   "source": [
    "### 6. Control\n",
    "BTW, break/continue can be used as usual.\n",
    "\n",
    "if [-elif-else]:\n",
    "\n",
    "    if condition1:\n",
    "        statement1\n",
    "    elif condition2:\n",
    "        statement2\n",
    "    else:\n",
    "        statement3\n",
    "while [-else]:\n",
    "\n",
    "    while condition:\n",
    "        statement1\n",
    "    else：\n",
    "        statement2\n",
    "for [-else]:\n",
    "\n",
    "    for variable in sequence:\n",
    "        statement1\n",
    "    else:\n",
    "        statement2\n",
    "### 7. IO Of File\n",
    "![IO](https://github.com/NightMarcher/DataProcessingWithPython/blob/master/IO.png?raw=true \"IO\")"
   ]
  },
  {
   "cell_type": "code",
   "execution_count": null,
   "metadata": {},
   "outputs": [],
   "source": [
    "f = open(r'F:\\Git\\DataProcessingWithPython\\The Zen Of Python.txt', 'r')\n",
    "content = f.read()\n",
    "print f.tell()\n",
    "f.close()# When you’re done with a file, call f.close() to close it and free up any system resources taken up by the open file."
   ]
  },
  {
   "cell_type": "code",
   "execution_count": null,
   "metadata": {},
   "outputs": [],
   "source": [
    "print content"
   ]
  },
  {
   "cell_type": "code",
   "execution_count": null,
   "metadata": {
    "scrolled": true
   },
   "outputs": [],
   "source": [
    "f.readlines()"
   ]
  },
  {
   "cell_type": "code",
   "execution_count": null,
   "metadata": {},
   "outputs": [],
   "source": [
    "with open(r'F:\\Git\\DataProcessingWithPython\\The Zen Of Python.txt', 'r') as f: # without f.close() is OK\n",
    "    print f.tell()\n",
    "    c1 = f.readline()\n",
    "    print f.tell()"
   ]
  },
  {
   "cell_type": "code",
   "execution_count": null,
   "metadata": {
    "scrolled": true
   },
   "outputs": [],
   "source": [
    "print c1"
   ]
  },
  {
   "cell_type": "code",
   "execution_count": null,
   "metadata": {},
   "outputs": [],
   "source": [
    "with open(r'F:\\Git\\DataProcessingWithPython\\The Zen Of Python.txt', 'r') as f:\n",
    "    f.seek(34, 0)\n",
    "    c2 = f.readline()\n",
    "    print f.tell()"
   ]
  },
  {
   "cell_type": "code",
   "execution_count": null,
   "metadata": {
    "scrolled": true
   },
   "outputs": [],
   "source": [
    "print c2"
   ]
  },
  {
   "cell_type": "code",
   "execution_count": null,
   "metadata": {},
   "outputs": [],
   "source": [
    "content"
   ]
  },
  {
   "cell_type": "markdown",
   "metadata": {},
   "source": [
    "## IV. \"Talk is cheap. Show me the code. \"\n",
    "### 1. Sequence\n",
    "Sequence share following methods"
   ]
  },
  {
   "cell_type": "code",
   "execution_count": null,
   "metadata": {},
   "outputs": [],
   "source": [
    "list_ = ['Fibonacci', 1, 1, 2, 3, 5, 8] # list\n",
    "str_ = 'Hello' # str\n",
    "tuple_ = (10, 'a') # tuple"
   ]
  },
  {
   "cell_type": "code",
   "execution_count": null,
   "metadata": {},
   "outputs": [],
   "source": [
    "list_[1:6] # list_[start:end:step]"
   ]
  },
  {
   "cell_type": "code",
   "execution_count": null,
   "metadata": {},
   "outputs": [],
   "source": [
    "list_[::-1]"
   ]
  },
  {
   "cell_type": "code",
   "execution_count": null,
   "metadata": {},
   "outputs": [],
   "source": [
    "tuple_ * 3"
   ]
  },
  {
   "cell_type": "code",
   "execution_count": null,
   "metadata": {},
   "outputs": [],
   "source": [
    "str_ + ' Word!'"
   ]
  },
  {
   "cell_type": "code",
   "execution_count": null,
   "metadata": {},
   "outputs": [],
   "source": [
    "'i' in 'Fibonacci'"
   ]
  },
  {
   "cell_type": "code",
   "execution_count": null,
   "metadata": {},
   "outputs": [],
   "source": [
    "len('Fibonacci')"
   ]
  },
  {
   "cell_type": "code",
   "execution_count": null,
   "metadata": {},
   "outputs": [],
   "source": [
    "', '.join(['a', 'b', 'c', 'd', 'e'])"
   ]
  },
  {
   "cell_type": "markdown",
   "metadata": {},
   "source": [
    "Something interesting"
   ]
  },
  {
   "cell_type": "code",
   "execution_count": null,
   "metadata": {},
   "outputs": [],
   "source": [
    "'a-b-c-d-e'.split('-')"
   ]
  },
  {
   "cell_type": "code",
   "execution_count": null,
   "metadata": {},
   "outputs": [],
   "source": [
    "'Emmmmm'.strip('m')"
   ]
  },
  {
   "cell_type": "code",
   "execution_count": null,
   "metadata": {},
   "outputs": [],
   "source": [
    "'Data Processing With Python'.istitle()"
   ]
  },
  {
   "cell_type": "code",
   "execution_count": null,
   "metadata": {},
   "outputs": [],
   "source": [
    "'A'.islower()"
   ]
  },
  {
   "cell_type": "code",
   "execution_count": null,
   "metadata": {},
   "outputs": [],
   "source": [
    "r'F:\\Lab\\preset'"
   ]
  },
  {
   "cell_type": "markdown",
   "metadata": {},
   "source": [
    "*\"In Python, it’s all about the attributes. \"*"
   ]
  },
  {
   "cell_type": "code",
   "execution_count": null,
   "metadata": {
    "scrolled": true
   },
   "outputs": [],
   "source": [
    "dir('Python')"
   ]
  },
  {
   "cell_type": "code",
   "execution_count": null,
   "metadata": {},
   "outputs": [],
   "source": [
    "'Python'.__len__() # len('Python')"
   ]
  },
  {
   "cell_type": "code",
   "execution_count": null,
   "metadata": {},
   "outputs": [],
   "source": [
    "import os\n",
    "\n",
    "dir1 = 'F:\\Git\\DataProcessingWithPython\\exammode.db' #复制文件所在目录+手动输入DB文件名\n",
    "dir2 = '‪‪F:\\Git\\DataProcessingWithPython\\exammode.db' #文件属性/安全/对象名称获取的路径\n",
    "\n",
    "print os.path.exists(dir1), os.path.exists(dir2) "
   ]
  },
  {
   "cell_type": "code",
   "execution_count": null,
   "metadata": {},
   "outputs": [],
   "source": [
    "print hex(dir1.__hash__()), hex(dir2.__hash__())"
   ]
  },
  {
   "cell_type": "code",
   "execution_count": null,
   "metadata": {
    "scrolled": true
   },
   "outputs": [],
   "source": [
    "import chardet\n",
    "\n",
    "print chardet.detect(dir1), chardet.detect(dir2)"
   ]
  },
  {
   "cell_type": "markdown",
   "metadata": {},
   "source": [
    "### 2. Traversal"
   ]
  },
  {
   "cell_type": "code",
   "execution_count": null,
   "metadata": {},
   "outputs": [],
   "source": [
    "range(5) # equal to range(0, 5, 1), [0, 5)"
   ]
  },
  {
   "cell_type": "code",
   "execution_count": null,
   "metadata": {
    "scrolled": true
   },
   "outputs": [],
   "source": [
    "top5 = ['Java', 'C', 'C++', 'Python', 'C#']\n",
    "for item in top5:\n",
    "    print item"
   ]
  },
  {
   "cell_type": "code",
   "execution_count": null,
   "metadata": {
    "scrolled": true
   },
   "outputs": [],
   "source": [
    "for item in sorted(top5):\n",
    "    print item"
   ]
  },
  {
   "cell_type": "code",
   "execution_count": null,
   "metadata": {},
   "outputs": [],
   "source": [
    "for item in reversed(top5):\n",
    "    print item"
   ]
  },
  {
   "cell_type": "code",
   "execution_count": null,
   "metadata": {},
   "outputs": [],
   "source": [
    "top5"
   ]
  },
  {
   "cell_type": "code",
   "execution_count": null,
   "metadata": {
    "scrolled": false
   },
   "outputs": [],
   "source": [
    "for offset, item in enumerate(top5):\n",
    "    print offset, '>>>', item"
   ]
  },
  {
   "cell_type": "code",
   "execution_count": null,
   "metadata": {},
   "outputs": [],
   "source": [
    "dic = dict(enumerate(top5))\n",
    "dic"
   ]
  },
  {
   "cell_type": "code",
   "execution_count": null,
   "metadata": {},
   "outputs": [],
   "source": [
    "dic = dict(zip(range(5), top5))\n",
    "dic"
   ]
  },
  {
   "cell_type": "code",
   "execution_count": null,
   "metadata": {},
   "outputs": [],
   "source": [
    "for key, value in dic.iteritems():\n",
    "    print key, '>>>', value"
   ]
  },
  {
   "cell_type": "code",
   "execution_count": null,
   "metadata": {},
   "outputs": [],
   "source": [
    "for x, y, z in zip([10, 11, 12], 'ABC', ('1010', '1011', '1100')):\n",
    "    print 'DEC:', x, ' HEX:', y, ' BIN:', z"
   ]
  },
  {
   "cell_type": "markdown",
   "metadata": {},
   "source": [
    "### 3. \"Pythonic\" Code"
   ]
  },
  {
   "cell_type": "code",
   "execution_count": null,
   "metadata": {},
   "outputs": [],
   "source": [
    "0.1 < 0.3 < 0.5"
   ]
  },
  {
   "cell_type": "code",
   "execution_count": null,
   "metadata": {},
   "outputs": [],
   "source": [
    "a, b, c = 'ABC', 456, ('a')\n",
    "print 'a =', a\n",
    "print 'b =', b\n",
    "print 'c =', c"
   ]
  },
  {
   "cell_type": "code",
   "execution_count": null,
   "metadata": {},
   "outputs": [],
   "source": [
    "x, y = 1, 0\n",
    "x, y = y, x\n",
    "print 'x =', x, ' y =', y"
   ]
  },
  {
   "cell_type": "code",
   "execution_count": null,
   "metadata": {
    "scrolled": true
   },
   "outputs": [],
   "source": [
    "s = '''CREATE TABLE \"schema_version\" (\n",
    "    \"name\" TEXT NOT NULL PRIMARY KEY,\n",
    "    \"version\" INTEGER NOT NULL,\n",
    "    \"migration\" INTEGER NOT NULL);'''\n",
    "print s"
   ]
  },
  {
   "cell_type": "code",
   "execution_count": null,
   "metadata": {
    "scrolled": false
   },
   "outputs": [],
   "source": [
    "[x for x in range(18) if x % 2 == 1]"
   ]
  },
  {
   "cell_type": "code",
   "execution_count": null,
   "metadata": {},
   "outputs": [],
   "source": [
    "func = lambda str_ : str_.lower() # lambda\n",
    "func('AbCdE')"
   ]
  },
  {
   "cell_type": "code",
   "execution_count": null,
   "metadata": {},
   "outputs": [],
   "source": [
    "map(str.upper, 'Hello Word!') # map"
   ]
  },
  {
   "cell_type": "code",
   "execution_count": null,
   "metadata": {},
   "outputs": [],
   "source": [
    "filter(str.isupper, 'Hello Word!') # filter"
   ]
  },
  {
   "cell_type": "code",
   "execution_count": null,
   "metadata": {},
   "outputs": [],
   "source": [
    "reduce(lambda x, y : x*y, [1, 2, 3, 4, 5]) # reduce, to caculate 5!"
   ]
  },
  {
   "cell_type": "markdown",
   "metadata": {},
   "source": [
    "## V. Packages We Use\n",
    "[SciPy](https://www.scipy.org/!)(pronounced “Sigh Pie”) is a Python-based ecosystem of open-source software for **mathematics**, **science**, and **engineering**.\n",
    "### 1. Pandas\n",
    "![pandasLogo](http://pandas.pydata.org/_static/pandas_logo.png \"pandasLogo\")\n",
    "Pandas(Python Data Analysis Library) is an open source, BSD-licensed library providing high-performance, easy-to-use **data structures** and **data analysis tools** for the Python programming language.\n",
    "### 2. Numpy\n",
    "![numpyLogo](http://www.numpy.org/_static/numpy_logo.png \"numpyLogo\")\n",
    "NumPy is the fundamental package for **scientific computing** with Python. It contains among other things:\n",
    "* a powerful N-dimensional array object\n",
    "\n",
    "\n",
    "* tools for integrating C/C++ and Fortran code\n",
    "\n",
    "\n",
    "* useful linear algebra, Fourier transform, and random number capabilities\n",
    "\n",
    "...\n",
    "### 3. Matplotlib\n",
    "![matplotlibLogo](https://matplotlib.org/_static/logo2.png \"matplotlibLogo\")\n",
    "![matplotlib](https://upload.wikimedia.org/wikipedia/commons/thumb/c/ca/Mpl_screenshot_figures_and_code.png/300px-Mpl_screenshot_figures_and_code.png \"matplotlib\")\n",
    "Matplotlib is a Python **2D plotting library** which produces **publication quality figures** in a variety of hardcopy formats and interactive environments across platforms.\n",
    "### 4. IPython\n",
    "![ipythonLogo](http://ipython.org/_static/IPy_header.png \"piythonLogo\")\n",
    "![ipython](http://ipython.org/_static/ipy_0.13.png \"ipython\")\n",
    "In 2014, Fernando Pérez announced a spin-off project from IPython called *Project Jupyter*. IPython will continue to exist as a Python shell and a kernel for Jupyter, while the notebook and other language-agnostic parts of IPython will move under the Jupyter name. Jupyter added support for **Julia**, **R**, **Haskell** and **Ruby**.\n",
    "![jupyterLogo](http://jupyter.org/assets/nav_logo.svg \"jupyterLogo\")\n",
    "![jupyter](https://jupyter.org/assets/jupyterpreview.png \"jupyter\")\n",
    "### 5. Scipy\n",
    "![scipyLogo](https://www.scipy.org/_static/logo.gif \"scipyLogo\")\n",
    "The SciPy library is one of the core packages that make up the SciPy stack. It provides many user-friendly and efficient numerical routines such as routines for numerical integration and optimization.\n",
    "* constants: physical constants and conversion factors\n",
    "\n",
    "\n",
    "* cluster: hierarchical clustering, vector quantization, K-means\n",
    "\n",
    "\n",
    "* fftpack: Discrete Fourier Transform algorithms\n",
    "\n",
    "\n",
    "* optimize: optimization algorithms including linear programming\n",
    "\n",
    "\n",
    "* signal: signal processing tools\n",
    "\n",
    "\n",
    "* ndimage: various functions for multi-dimensional image processing\n",
    "\n",
    "\n",
    "* sparse: sparse matrix and related algorithms\n",
    "\n",
    "..."
   ]
  },
  {
   "cell_type": "markdown",
   "metadata": {},
   "source": [
    "## VI. Pandas\n",
    "### 1. Library Highlights\n",
    "* A fast and efficient **DataFrame** object for data manipulation with integrated indexing\n",
    "\n",
    "\n",
    "* Tools for **reading and writing data** between in-memory data structures and different formats: CSV and text files, Microsoft Excel, SQL databases, and the fast HDF5 format\n",
    "\n",
    "\n",
    "* Flexible **reshaping and pivoting** of data sets\n",
    "\n",
    "\n",
    "* Highly optimized for performance, with critical code paths written in **Cython or C**\n",
    "\n",
    "\n",
    "* High performance **merging and joining** of data sets\n",
    "\n",
    "...\n",
    "### 2. DataFrame\n",
    "![DataFrame](https://github.com/NightMarcher/DataProcessingWithPython/blob/master/DataFrame.png?raw=true \"DataFrame\")"
   ]
  },
  {
   "cell_type": "code",
   "execution_count": null,
   "metadata": {
    "scrolled": false
   },
   "outputs": [],
   "source": [
    "import pandas as pd\n",
    "\n",
    "examModeTable = pd.read_excel(r'F:\\Git\\DataProcessingWithPython\\ExamModeSpec.xlsx', header=3)\n",
    "examModeTable.head(8)"
   ]
  },
  {
   "cell_type": "code",
   "execution_count": null,
   "metadata": {},
   "outputs": [],
   "source": [
    "examModeTable = examModeTable.ix[:, ['Chinese', 'Abbreviation']]\n",
    "examModeTable.head(8)"
   ]
  },
  {
   "cell_type": "code",
   "execution_count": null,
   "metadata": {
    "scrolled": true
   },
   "outputs": [],
   "source": [
    "examModeId = pd.read_csv((r'F:\\Git\\DataProcessingWithPython\\examid.txt'), header=None, names=['Abbreviation', 'examModeId'])\n",
    "examModeId.head(8)"
   ]
  },
  {
   "cell_type": "code",
   "execution_count": null,
   "metadata": {
    "scrolled": true
   },
   "outputs": [],
   "source": [
    "examModeTable = pd.merge(examModeId, examModeTable, on='Abbreviation')\n",
    "examModeTable.head(8)"
   ]
  },
  {
   "cell_type": "code",
   "execution_count": null,
   "metadata": {},
   "outputs": [],
   "source": [
    "df = pd.read_csv(r'F:\\Git\\DataProcessingWithPython\\imgPara.csv', encoding='gb2312').ix[:, ['probeName', 'Chinese', 'imgParaName', 'imgParaVal']]\n",
    "df.head(8)"
   ]
  },
  {
   "cell_type": "code",
   "execution_count": null,
   "metadata": {},
   "outputs": [],
   "source": [
    "df = df.set_index(['probeName', 'Chinese', 'imgParaName'])\n",
    "df.head(8)"
   ]
  },
  {
   "cell_type": "code",
   "execution_count": null,
   "metadata": {},
   "outputs": [],
   "source": [
    "df = df.unstack()\n",
    "df.head(8)"
   ]
  },
  {
   "cell_type": "markdown",
   "metadata": {},
   "source": [
    "![stack](https://github.com/NightMarcher/DataProcessingWithPython/blob/master/stack.png?raw=true \"stack\")\n",
    "## VII. Numpy And Matplotlib"
   ]
  },
  {
   "cell_type": "code",
   "execution_count": null,
   "metadata": {},
   "outputs": [],
   "source": [
    "import numpy as np\n",
    "import matplotlib.pyplot as plt"
   ]
  },
  {
   "cell_type": "code",
   "execution_count": null,
   "metadata": {
    "scrolled": true
   },
   "outputs": [],
   "source": [
    "a = np.array([[0, -1, 2], (3, 4, -5), [-6, 7, 8], (-9, 10, 11)])\n",
    "a"
   ]
  },
  {
   "cell_type": "code",
   "execution_count": null,
   "metadata": {},
   "outputs": [],
   "source": [
    "a[1:3, 0:3]"
   ]
  },
  {
   "cell_type": "code",
   "execution_count": null,
   "metadata": {
    "scrolled": true
   },
   "outputs": [],
   "source": [
    "a.shape"
   ]
  },
  {
   "cell_type": "code",
   "execution_count": null,
   "metadata": {
    "scrolled": false
   },
   "outputs": [],
   "source": [
    "a.T"
   ]
  },
  {
   "cell_type": "code",
   "execution_count": null,
   "metadata": {
    "scrolled": true
   },
   "outputs": [],
   "source": [
    "a.sum()"
   ]
  },
  {
   "cell_type": "code",
   "execution_count": null,
   "metadata": {},
   "outputs": [],
   "source": [
    "a.reshape(6, 2)"
   ]
  },
  {
   "cell_type": "code",
   "execution_count": null,
   "metadata": {
    "scrolled": true
   },
   "outputs": [],
   "source": [
    "a >= 0"
   ]
  },
  {
   "cell_type": "code",
   "execution_count": null,
   "metadata": {
    "scrolled": false
   },
   "outputs": [],
   "source": [
    "a * (a >= 0)"
   ]
  },
  {
   "cell_type": "code",
   "execution_count": null,
   "metadata": {},
   "outputs": [],
   "source": [
    "np.zeros([2, 6])"
   ]
  },
  {
   "cell_type": "code",
   "execution_count": null,
   "metadata": {},
   "outputs": [],
   "source": [
    "np.ones((2, 3, 4), dtype=np.int8) # dtype can also be specified"
   ]
  },
  {
   "cell_type": "code",
   "execution_count": null,
   "metadata": {},
   "outputs": [],
   "source": [
    "np.linspace(0, np.pi, 4)"
   ]
  },
  {
   "cell_type": "code",
   "execution_count": null,
   "metadata": {},
   "outputs": [],
   "source": [
    "np.arange(10, 30, 5)"
   ]
  },
  {
   "cell_type": "code",
   "execution_count": null,
   "metadata": {},
   "outputs": [],
   "source": [
    "x = np.random.rand(1000)\n",
    "y = np.random.rand(1000)\n",
    "size = np.random.rand(1000) * 50\n",
    "colour = np.random.rand(1000)\n",
    "plt.scatter(x, y, size, colour)\n",
    "plt.colorbar()\n",
    "plt.show()"
   ]
  },
  {
   "cell_type": "code",
   "execution_count": null,
   "metadata": {},
   "outputs": [],
   "source": [
    "x = np.random.randn(1000)\n",
    "plt.hist(x, 50)\n",
    "plt.show()"
   ]
  },
  {
   "cell_type": "markdown",
   "metadata": {},
   "source": [
    "## VIII. Jupyter Notebook"
   ]
  },
  {
   "cell_type": "code",
   "execution_count": null,
   "metadata": {},
   "outputs": [],
   "source": [
    "top5?\n",
    "# func??"
   ]
  },
  {
   "cell_type": "code",
   "execution_count": null,
   "metadata": {},
   "outputs": [],
   "source": [
    "%timeit range(1000)"
   ]
  },
  {
   "cell_type": "code",
   "execution_count": null,
   "metadata": {
    "scrolled": true
   },
   "outputs": [],
   "source": [
    "%pwd"
   ]
  },
  {
   "cell_type": "code",
   "execution_count": null,
   "metadata": {},
   "outputs": [],
   "source": [
    "%cd F:\\Git\\DataProcessingWithPython"
   ]
  },
  {
   "cell_type": "code",
   "execution_count": null,
   "metadata": {},
   "outputs": [],
   "source": [
    "!dir"
   ]
  },
  {
   "cell_type": "code",
   "execution_count": null,
   "metadata": {},
   "outputs": [],
   "source": [
    "%run drawFigure.py"
   ]
  },
  {
   "cell_type": "code",
   "execution_count": null,
   "metadata": {},
   "outputs": [],
   "source": [
    "JPEG_PSNR"
   ]
  },
  {
   "cell_type": "code",
   "execution_count": null,
   "metadata": {},
   "outputs": [],
   "source": [
    "_ # In interactive mode, the last printed expression is assigned to the variable _"
   ]
  },
  {
   "cell_type": "markdown",
   "metadata": {},
   "source": [
    "## IX. How To Get Python And Packages?\n",
    "**[Python 2.X or 3.X?](https://wiki.python.org/moin/Python2orPython3)**\n",
    "### 1. Average Coding\n",
    "a) Download Python From [Official Website](https://www.python.org/downloads/)\n",
    "\n",
    "b) Make Sure Python Has Been Added To PATH\n",
    "![py2install](https://github.com/NightMarcher/DataProcessingWithPython/blob/master/py2install.png?raw=true \"py2install\")\n",
    "![py3install](https://github.com/NightMarcher/DataProcessingWithPython/blob/master/py3install.png?raw=true \"py3install\")\n",
    "c) [pip](https://pip.pypa.io/en/stable/quickstart/) (Preferred Installer Program) - Python Package Manager\n",
    "\n",
    "Type In Console: pip install packageName\n",
    "\n",
    "...\n",
    "### 2. Coding For Data Science\n",
    "![Anaconda](https://www.anaconda.com/wp-content/themes/anaconda/images/logo-dark.png \"Anaconda\")\n",
    "**What And Why Anaconda?**\n",
    "\n",
    "Anaconda - *\"The Most Popular Python Data Science Platform\"*\n",
    "\n",
    "It includes hundreds of popular data science packages and the conda package and virtual environment manager for Windows, Linux, and MacOS. Conda makes it quick and easy to install, run, and upgrade complex data science and machine learning environments like Scikit-learn, TensorFlow, and SciPy.\n",
    "\n",
    "![AnacondaApp](https://github.com/NightMarcher/DataProcessingWithPython/blob/master/AnacondaApp.jpg?raw=true \"AnacondaApp\")\n",
    "![AnacondaEnv](https://github.com/NightMarcher/DataProcessingWithPython/blob/master/AnacondaEnv.png?raw=true \"AnacondaEnv\")\n",
    "a) Download Anaconda From [Official Website](https://www.anaconda.com/download/) Or [Tsinghua Mirrors](https://mirrors.tuna.tsinghua.edu.cn/anaconda/archive/)\n",
    "\n",
    "b) Make Sure Python Has Been Added To PATH\n",
    "![AnacondaInstall](https://github.com/NightMarcher/DataProcessingWithPython/blob/master/AnacondaInstall.jpg?raw=true \"AnacondaInstall\")\n",
    "c) conda\n",
    "![packagesManager](https://github.com/NightMarcher/DataProcessingWithPython/blob/master/packagesManager.png?raw=true \"packagesManager\")\n",
    "![pyinstaller](https://github.com/NightMarcher/DataProcessingWithPython/blob/master/pyinstaller.png?raw=true \"pyinstaller\")"
   ]
  },
  {
   "cell_type": "markdown",
   "metadata": {},
   "source": [
    "## X. How To Get Started?\n",
    "1.[用Python玩转数据](https://www.icourse163.org/course/NJU-1001571005) or other MOOC\n",
    "\n",
    "2.[Python Tutorial 2.7.14](http://www.pythondoc.com/pythontutorial27/index.html)\n",
    "or [Python Tutorial 3.6.3](http://www.pythondoc.com/pythontutorial3/index.html)\n",
    "\n",
    "3.Try some small project personally, such as [Python 图片转字符画](https://www.shiyanlou.com/courses/370)\n",
    "\n",
    "4.Reading well-developed codes on [GitHub](https://github.com/search?utf8=✓&q=Python&type=)\n",
    "\n",
    "---\n",
    "## Let`s Play With Python\n",
    "1.Change 'F:\\\\Git\\\\DataProcessingWithPython' into 'F:/Git/DataProcessingWithPython'\n",
    "\n",
    "2.Print 1st to 30th number of Fibonacci List(1, 1, 2, 3, 5, 8, 13...)\n",
    "![FibonacciSpiral](https://upload.wikimedia.org/wikipedia/commons/thumb/2/2e/FibonacciSpiral.svg/354px-FibonacciSpiral.svg.png \"FibonacciSpiral\")\n",
    "\n",
    "3.Fetch the number which can`t mod 3 get 0 from 1 to 50\n",
    "\n",
    "![Think](http://www.hdwallpapers.in/walls/think_different-wide.jpg \"Think\")\n",
    "**Think Twice, Think Different! o.O**\n",
    "## Recommanded Solutions\n",
    "1.Change 'F:\\Git\\DataProcessingWithPython' into 'F:/Git/DataProcessingWithPython'"
   ]
  },
  {
   "cell_type": "code",
   "execution_count": null,
   "metadata": {},
   "outputs": [],
   "source": [
    "'/'.join('F:\\\\Git\\\\DataProcessingWithPython'.split('\\\\'))"
   ]
  },
  {
   "cell_type": "markdown",
   "metadata": {},
   "source": [
    "2.Print 1st to 30th number of Fibonacci List(1, 1, 2, 3, 5, 8, 13...)"
   ]
  },
  {
   "cell_type": "code",
   "execution_count": null,
   "metadata": {},
   "outputs": [],
   "source": [
    "a, b = 1, 1\n",
    "for i in range(30):\n",
    "    print a,\n",
    "    a, b = b, a + b"
   ]
  },
  {
   "cell_type": "markdown",
   "metadata": {},
   "source": [
    "3.Fetch the number which can`t mod 3 get 0 from 1 to 50"
   ]
  },
  {
   "cell_type": "code",
   "execution_count": null,
   "metadata": {},
   "outputs": [],
   "source": [
    "for i in range(0, 51):\n",
    "    if i % 3:\n",
    "        print i,"
   ]
  },
  {
   "cell_type": "code",
   "execution_count": null,
   "metadata": {},
   "outputs": [],
   "source": [
    "print [x for x in range(1,51) if x % 3 != 0]"
   ]
  },
  {
   "cell_type": "code",
   "execution_count": null,
   "metadata": {
    "scrolled": false
   },
   "outputs": [],
   "source": [
    "print filter(lambda x:x not in range(0, 51, 3), range(0, 51))"
   ]
  },
  {
   "cell_type": "code",
   "execution_count": null,
   "metadata": {
    "scrolled": true
   },
   "outputs": [],
   "source": [
    "np.array(range(1,51))[np.array(range(1,51)) % 3 != 0]"
   ]
  },
  {
   "cell_type": "markdown",
   "metadata": {},
   "source": [
    "**You Can Download All Files From My [DataProcessingWithPython](https://github.com/NightMarcher/DataProcessingWithPython) Repositorie On GitHub. Thanks For Your Patience! **"
   ]
  }
 ],
 "metadata": {
  "kernelspec": {
   "display_name": "Python 2",
   "language": "python",
   "name": "python2"
  },
  "language_info": {
   "codemirror_mode": {
    "name": "ipython",
    "version": 2
   },
   "file_extension": ".py",
   "mimetype": "text/x-python",
   "name": "python",
   "nbconvert_exporter": "python",
   "pygments_lexer": "ipython2",
   "version": "2.7.14"
  }
 },
 "nbformat": 4,
 "nbformat_minor": 2
}
